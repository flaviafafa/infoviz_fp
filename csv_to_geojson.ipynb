{
 "cells": [
  {
   "cell_type": "code",
   "execution_count": 5,
   "id": "efb21777",
   "metadata": {},
   "outputs": [
    {
     "name": "stdout",
     "output_type": "stream",
     "text": [
      "GeoJSON saved as nyc_open_space.geojson\n"
     ]
    }
   ],
   "source": [
    "import pandas as pd\n",
    "import geopandas as gpd\n",
    "from shapely import wkt\n",
    "\n",
    "# 1. Read the CSV\n",
    "df = pd.read_csv('nyc_open_space.csv')\n",
    "\n",
    "# 2. Parse the 'the_geom' column from WKT to shapely geometries\n",
    "df['geometry'] = df['the_geom'].apply(wkt.loads)\n",
    "\n",
    "# 3. Convert to GeoDataFrame\n",
    "gdf = gpd.GeoDataFrame(df, geometry='geometry', crs='EPSG:4326')\n",
    "\n",
    "# 4. Optional: Select only useful columns\n",
    "gdf = gdf[['PARK_NAME', 'LANDUSE', 'geometry']]\n",
    "\n",
    "# 5. Project to a projected CRS (let's use EPSG:2263 — NYC State Plane feet)\n",
    "gdf_proj = gdf.to_crs(epsg=2263)\n",
    "\n",
    "# 6. Compute centroids in projected CRS\n",
    "gdf_proj['centroid'] = gdf_proj.geometry.centroid\n",
    "\n",
    "# 7. Reproject centroids back to WGS84 (lon/lat)\n",
    "centroids_wgs84 = gdf_proj['centroid'].to_crs(epsg=4326)\n",
    "\n",
    "# 8. Extract lon/lat from centroids\n",
    "gdf['centroid_lon'] = centroids_wgs84.x\n",
    "gdf['centroid_lat'] = centroids_wgs84.y\n",
    "\n",
    "# 9. Save to GeoJSON\n",
    "gdf.to_file('nyc_open_space.geojson', driver='GeoJSON')\n",
    "\n",
    "print(\"GeoJSON saved as nyc_open_space.geojson\")\n"
   ]
  },
  {
   "cell_type": "code",
   "execution_count": null,
   "id": "7c8d8fe7",
   "metadata": {},
   "outputs": [],
   "source": []
  },
  {
   "cell_type": "code",
   "execution_count": 4,
   "id": "e3ba3078",
   "metadata": {},
   "outputs": [
    {
     "name": "stdout",
     "output_type": "stream",
     "text": [
      "GeoJSON with centroids saved as nyc_zip_codes_with_centroids.geojson\n"
     ]
    }
   ],
   "source": [
    "import geopandas as gpd\n",
    "\n",
    "# 1. Load the ZIP GeoJSON\n",
    "gdf = gpd.read_file('nyc_zip_codes.geojson')\n",
    "\n",
    "# 2. Reproject to a projected CRS for accurate centroids (NY State Plane, EPSG:2263)\n",
    "gdf_proj = gdf.to_crs(epsg=2263)\n",
    "\n",
    "# 3. Calculate centroids\n",
    "gdf_proj['centroid'] = gdf_proj.geometry.centroid\n",
    "\n",
    "# 4. Reproject centroids back to WGS84 (EPSG:4326)\n",
    "centroids_wgs84 = gdf_proj['centroid'].to_crs(epsg=4326)\n",
    "\n",
    "# 5. Extract longitude and latitude\n",
    "gdf['centroid_lon'] = centroids_wgs84.x\n",
    "gdf['centroid_lat'] = centroids_wgs84.y\n",
    "\n",
    "# 6. Save back to GeoJSON\n",
    "gdf.to_file('nyc_zip_codes_with_centroids.geojson', driver='GeoJSON')\n",
    "\n",
    "print(\"GeoJSON with centroids saved as nyc_zip_codes_with_centroids.geojson\")\n"
   ]
  },
  {
   "cell_type": "code",
   "execution_count": null,
   "id": "a43d8919",
   "metadata": {},
   "outputs": [],
   "source": []
  }
 ],
 "metadata": {
  "kernelspec": {
   "display_name": "info2950",
   "language": "python",
   "name": "python3"
  },
  "language_info": {
   "codemirror_mode": {
    "name": "ipython",
    "version": 3
   },
   "file_extension": ".py",
   "mimetype": "text/x-python",
   "name": "python",
   "nbconvert_exporter": "python",
   "pygments_lexer": "ipython3",
   "version": "3.12.7"
  }
 },
 "nbformat": 4,
 "nbformat_minor": 5
}
