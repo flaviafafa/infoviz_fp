{
 "cells": [
  {
   "cell_type": "code",
   "execution_count": null,
   "id": "efb21777",
   "metadata": {},
   "outputs": [
    {
     "name": "stdout",
     "output_type": "stream",
     "text": [
      "GeoJSON saved as nyc_open_space.geojson\n"
     ]
    }
   ],
   "source": [
    "import pandas as pd\n",
    "import geopandas as gpd\n",
    "from shapely import wkt\n",
    "\n",
    "\n",
    "df = pd.read_csv('nyc_open_space.csv')\n",
    "\n",
    "df['geometry'] = df['the_geom'].apply(wkt.loads)\n",
    "\n",
    "gdf = gpd.GeoDataFrame(df, geometry='geometry', crs='EPSG:4326')\n",
    "\n",
    "gdf = gdf[['PARK_NAME', 'LANDUSE', 'geometry']]\n",
    "\n",
    "gdf_proj = gdf.to_crs(epsg=2263)\n",
    "\n",
    "gdf_proj['centroid'] = gdf_proj.geometry.centroid\n",
    "\n",
    "centroids_wgs84 = gdf_proj['centroid'].to_crs(epsg=4326)\n",
    "\n",
    "gdf['centroid_lon'] = centroids_wgs84.x\n",
    "gdf['centroid_lat'] = centroids_wgs84.y\n",
    "\n",
    "gdf.to_file('nyc_open_space.geojson', driver='GeoJSON')\n",
    "\n",
    "print(\"GeoJSON saved as nyc_open_space.geojson\")\n"
   ]
  },
  {
   "cell_type": "code",
   "execution_count": null,
   "id": "e3ba3078",
   "metadata": {},
   "outputs": [
    {
     "name": "stdout",
     "output_type": "stream",
     "text": [
      "GeoJSON with centroids saved as nyc_zip_codes_with_centroids.geojson\n"
     ]
    }
   ],
   "source": [
    "import geopandas as gpd\n",
    "\n",
    "gdf = gpd.read_file('nyc_zip_codes.geojson')\n",
    "\n",
    "gdf_proj = gdf.to_crs(epsg=2263)\n",
    "\n",
    "\n",
    "gdf_proj['centroid'] = gdf_proj.geometry.centroid\n",
    "\n",
    "centroids_wgs84 = gdf_proj['centroid'].to_crs(epsg=4326)\n",
    "\n",
    "gdf['centroid_lon'] = centroids_wgs84.x\n",
    "gdf['centroid_lat'] = centroids_wgs84.y\n",
    "\n",
    "gdf.to_file('nyc_zip_codes_with_centroids.geojson', driver='GeoJSON')\n",
    "\n",
    "print(\"GeoJSON with centroids saved as nyc_zip_codes_with_centroids.geojson\")\n"
   ]
  },
  {
   "cell_type": "code",
   "execution_count": null,
   "id": "a43d8919",
   "metadata": {},
   "outputs": [],
   "source": []
  }
 ],
 "metadata": {
  "kernelspec": {
   "display_name": "info2950",
   "language": "python",
   "name": "python3"
  },
  "language_info": {
   "codemirror_mode": {
    "name": "ipython",
    "version": 3
   },
   "file_extension": ".py",
   "mimetype": "text/x-python",
   "name": "python",
   "nbconvert_exporter": "python",
   "pygments_lexer": "ipython3",
   "version": "3.12.7"
  }
 },
 "nbformat": 4,
 "nbformat_minor": 5
}
